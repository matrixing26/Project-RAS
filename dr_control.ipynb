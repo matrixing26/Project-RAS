{
 "cells": [
  {
   "cell_type": "code",
   "execution_count": 1,
   "metadata": {},
   "outputs": [
    {
     "name": "stderr",
     "output_type": "stream",
     "text": [
      "Using backend: pytorch\n",
      "Other supported backends: tensorflow.compat.v1, tensorflow, jax, paddle.\n",
      "paddle supports more examples now and is recommended.\n"
     ]
    }
   ],
   "source": [
    "import numpy as np\n",
    "import pandas as pd\n",
    "import time\n",
    "import matplotlib.pyplot as plt\n",
    "import deepxde.deepxde as dde\n",
    "import deepxde.deepxde.backend as bkd\n",
    "from datasets import makeTesting\n",
    "from datasets import parallel_solver, diffusion_reaction_solver\n",
    "from utils.func import dirichlet, periodic\n",
    "from utils.PDETriple import PDETripleCartesianProd\n",
    "\n",
    "date = time.strftime(\"%Y%m%d-%H:%M:%S\", time.localtime())"
   ]
  },
  {
   "cell_type": "code",
   "execution_count": 2,
   "metadata": {},
   "outputs": [],
   "source": [
    "total_training_vx = 400\n",
    "\n",
    "if False:\n",
    "    makeTesting()"
   ]
  },
  {
   "cell_type": "code",
   "execution_count": 3,
   "metadata": {},
   "outputs": [],
   "source": [
    "def pde(x, y, aux):\n",
    "    D = 0.01\n",
    "    k = 0.01\n",
    "    dy_t = dde.grad.jacobian(y, x[1], j=1)\n",
    "    dy_xx = dde.grad.hessian(y, x[1], j=0)\n",
    "    out = dy_t - D * dy_xx + k * y**2 - aux\n",
    "    return out\n",
    "\n",
    "class boundary():\n",
    "    def __init__(self, loss_coeff = 1, value = 0):\n",
    "        self.loss_coeff = loss_coeff\n",
    "        self.value = value\n",
    "    \n",
    "    def __call__(self, targets, outputs):\n",
    "        return self.loss_coeff * (outputs - self.value).abs().mean()"
   ]
  },
  {
   "cell_type": "code",
   "execution_count": 4,
   "metadata": {},
   "outputs": [
    {
     "name": "stdout",
     "output_type": "stream",
     "text": [
      "(20, 101) (10201, 2) (20, 10201)\n",
      "(100, 101) (10201, 2) (100, 10201)\n"
     ]
    }
   ],
   "source": [
    "space = dde.data.GRF(1.0, length_scale = 0.1, N= 1000, interp=\"cubic\")\n",
    "\n",
    "geom = dde.geometry.Interval(0, 1)\n",
    "timedomain = dde.geometry.TimeDomain(0, 1)\n",
    "geomtime = dde.geometry.GeometryXTime(geom, timedomain)\n",
    "vxs = space.eval_batch(space.random(20), np.linspace(0, 1, 101)[:, None])\n",
    "uxts = parallel_solver(diffusion_reaction_solver, vxs, num_workers = 3)\n",
    "grid = uxts[0][0].reshape(101 * 101, -1)\n",
    "uxts = np.asarray([u for grid, u in uxts]).reshape(-1, 101 * 101)\n",
    "\n",
    "\n",
    "train_vxs = vxs\n",
    "train_grid = grid\n",
    "train_uxts = uxts\n",
    "print(train_vxs.shape, train_grid.shape, train_uxts.shape)\n",
    "\n",
    "test_data = np.load(\"datasets/DF_100_0.1_101_101.npz\")\n",
    "test_vxs = test_data[\"vxs\"]\n",
    "test_grid = test_data[\"xt\"].reshape(-1, 2)\n",
    "test_uxts = test_data[\"uxts\"].reshape(-1, 101 * 101)\n",
    "del test_data\n",
    "print(test_vxs.shape, test_grid.shape, test_uxts.shape)"
   ]
  },
  {
   "cell_type": "code",
   "execution_count": null,
   "metadata": {},
   "outputs": [],
   "source": [
    "init_indices = (grid[:, 1] == 0).nonzero()[0]\n",
    "bound_indices = np.logical_or(grid[:, 0] == 0, grid[:, 0] == 1).nonzero()[0]\n",
    "boundary_losses = []\n",
    "boundary_losses.append((init_indices, boundary()))\n",
    "boundary_losses.append((bound_indices, boundary()))\n",
    "print(init_indices.shape, bound_indices.shape)"
   ]
  },
  {
   "cell_type": "code",
   "execution_count": 5,
   "metadata": {},
   "outputs": [
    {
     "name": "stdout",
     "output_type": "stream",
     "text": [
      "Compiling model...\n",
      "'compile' took 0.000270 s\n",
      "\n"
     ]
    }
   ],
   "source": [
    "data = PDETripleCartesianProd(X_train=(train_vxs, train_grid), y_train=train_uxts, X_test=(test_vxs, test_grid), y_test=test_uxts, boundary = [])\n",
    "\n",
    "# Net\n",
    "net = dde.nn.DeepONetCartesianProd(\n",
    "    [101, 100, 100],\n",
    "    [2, 100, 100, 100],\n",
    "    \"gelu\",\n",
    "    \"Glorot normal\",\n",
    ")\n",
    "\n",
    "# net.apply_feature_transform(periodic)\n",
    "net.apply_output_transform(dirichlet)\n",
    "\n",
    "model = dde.Model(data, net)\n",
    "model.compile(\"adam\", lr=1E-3, loss= [\"mse\"], metrics = [\"mean l2 relative error\"])\n"
   ]
  },
  {
   "cell_type": "code",
   "execution_count": 6,
   "metadata": {},
   "outputs": [
    {
     "name": "stdout",
     "output_type": "stream",
     "text": [
      "Training model...\n",
      "\n",
      "Step      Train loss    Test loss     Test metric   \n",
      "0         [1.08e-01]    [3.87e-01]    [1.49e+00]    \n",
      "1000      [1.95e-02]    [8.71e-02]    [6.16e-01]    \n",
      "2000      [1.20e-03]    [4.36e-02]    [4.85e-01]    \n",
      "3000      [4.43e-04]    [3.81e-02]    [4.47e-01]    \n",
      "4000      [1.32e-03]    [3.96e-02]    [4.53e-01]    \n",
      "5000      [3.43e-02]    [1.09e-01]    [6.58e-01]    \n",
      "6000      [1.09e-03]    [4.21e-02]    [4.66e-01]    \n",
      "7000      [1.72e-03]    [4.56e-02]    [4.77e-01]    \n"
     ]
    }
   ],
   "source": [
    "losshistory, train_state = model.train(iterations=20000 * 49, batch_size = len(train_vxs) // 5)\n",
    "dde.utils.plot_loss_history(losshistory)"
   ]
  },
  {
   "cell_type": "code",
   "execution_count": null,
   "metadata": {},
   "outputs": [],
   "source": [
    "losshistory.to_pandas().to_csv(f\"results/loss_history_{date}_ct.csv\")"
   ]
  },
  {
   "cell_type": "code",
   "execution_count": null,
   "metadata": {},
   "outputs": [],
   "source": [
    "losshistory, train_state = model.train(iterations=30000, batch_size = len(train_vxs))"
   ]
  },
  {
   "cell_type": "code",
   "execution_count": null,
   "metadata": {},
   "outputs": [],
   "source": [
    "pd_frame = losshistory.to_pandas()\n",
    "pd_frame = pd.concat([pd.read_csv(f\"results/loss_history_{date}_ct.csv\"), pd_frame], axis = 0, ignore_index=True)\n",
    "pd_frame.to_csv(f\"results/loss_history_{date}_ct.csv\")"
   ]
  }
 ],
 "metadata": {
  "kernelspec": {
   "display_name": "pial",
   "language": "python",
   "name": "python3"
  },
  "language_info": {
   "codemirror_mode": {
    "name": "ipython",
    "version": 3
   },
   "file_extension": ".py",
   "mimetype": "text/x-python",
   "name": "python",
   "nbconvert_exporter": "python",
   "pygments_lexer": "ipython3",
   "version": "3.10.11"
  },
  "orig_nbformat": 4
 },
 "nbformat": 4,
 "nbformat_minor": 2
}
