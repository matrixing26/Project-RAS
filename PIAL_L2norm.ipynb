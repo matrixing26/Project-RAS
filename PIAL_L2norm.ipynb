{
 "cells": [
  {
   "cell_type": "code",
   "execution_count": 1,
   "metadata": {},
   "outputs": [
    {
     "name": "stderr",
     "output_type": "stream",
     "text": [
      "Using backend: pytorch\n",
      "Other supported backends: tensorflow.compat.v1, tensorflow, jax, paddle.\n",
      "paddle supports more examples now and is recommended.\n"
     ]
    }
   ],
   "source": [
    "import numpy as np\n",
    "import matplotlib.pyplot as plt\n",
    "import deepxde.deepxde as dde\n",
    "import deepxde.deepxde.backend as bkd\n",
    "from datasets import makeTesting\n",
    "from datasets import parallel_solver, diffusion_reaction_solver\n",
    "from utils.func import dirichlet"
   ]
  },
  {
   "cell_type": "code",
   "execution_count": 2,
   "metadata": {},
   "outputs": [],
   "source": [
    "if False:\n",
    "    makeTesting()"
   ]
  },
  {
   "cell_type": "code",
   "execution_count": 3,
   "metadata": {},
   "outputs": [],
   "source": [
    "def pde(x, y):\n",
    "    vx = x[0].repeat_interleave(101)[:,None]\n",
    "\n",
    "    D = 0.01\n",
    "    k = 0.01\n",
    "    dy_t = dde.grad.jacobian(y, x[1], j=1)\n",
    "    dy_xx = dde.grad.hessian(y, x[1], j=0)\n",
    "    return dy_t - D * dy_xx + k * y**2 - vx"
   ]
  },
  {
   "cell_type": "code",
   "execution_count": 4,
   "metadata": {},
   "outputs": [
    {
     "name": "stdout",
     "output_type": "stream",
     "text": [
      "(20, 101) (10201, 2) (20, 10201)\n",
      "(100, 101) (10201, 2) (100, 10201)\n"
     ]
    }
   ],
   "source": [
    "space = dde.data.GRF(1.0, length_scale = 0.1, N= 1000, interp=\"cubic\")\n",
    "vxs = space.eval_batch(space.random(20), np.linspace(0, 1, 101)[:, None])\n",
    "uxts = parallel_solver(diffusion_reaction_solver, vxs, num_workers = 6)\n",
    "grid = uxts[0][0].reshape(101 * 101, -1)\n",
    "uxts = np.asarray([u for grid, u in uxts]).reshape(-1, 101 * 101)\n",
    "\n",
    "\n",
    "train_vxs = vxs\n",
    "train_grid = grid\n",
    "train_uxts = uxts\n",
    "print(train_vxs.shape, train_grid.shape, train_uxts.shape)\n",
    "\n",
    "test_data = np.load(\"datasets/DF_100_0.1_101_101.npz\")\n",
    "test_vxs = test_data[\"vxs\"]\n",
    "test_grid = test_data[\"xt\"].reshape(-1, 2)\n",
    "test_uxts = test_data[\"uxts\"].reshape(-1, 101 * 101)\n",
    "del test_data\n",
    "print(test_vxs.shape, test_grid.shape, test_uxts.shape)"
   ]
  },
  {
   "cell_type": "code",
   "execution_count": 5,
   "metadata": {},
   "outputs": [
    {
     "name": "stdout",
     "output_type": "stream",
     "text": [
      "Compiling model...\n",
      "'compile' took 0.000294 s\n",
      "\n",
      "Training model...\n",
      "\n",
      "Step      Train loss    Test loss     Test metric   \n",
      "0         [5.36e-01]    [3.79e-01]    [1.48e+00]    \n"
     ]
    },
    {
     "ename": "KeyboardInterrupt",
     "evalue": "",
     "output_type": "error",
     "traceback": [
      "\u001b[0;31m---------------------------------------------------------------------------\u001b[0m",
      "\u001b[0;31mKeyboardInterrupt\u001b[0m                         Traceback (most recent call last)",
      "Cell \u001b[0;32mIn[5], line 15\u001b[0m\n\u001b[1;32m     13\u001b[0m model \u001b[39m=\u001b[39m dde\u001b[39m.\u001b[39mModel(data, net)\n\u001b[1;32m     14\u001b[0m model\u001b[39m.\u001b[39mcompile(\u001b[39m\"\u001b[39m\u001b[39madam\u001b[39m\u001b[39m\"\u001b[39m, lr\u001b[39m=\u001b[39m\u001b[39m1E-3\u001b[39m, metrics \u001b[39m=\u001b[39m [\u001b[39m\"\u001b[39m\u001b[39mmean l2 relative error\u001b[39m\u001b[39m\"\u001b[39m], decay \u001b[39m=\u001b[39m (\u001b[39m\"\u001b[39m\u001b[39mlambda\u001b[39m\u001b[39m\"\u001b[39m, \u001b[39mlambda\u001b[39;00m step: \u001b[39m1\u001b[39m \u001b[39m/\u001b[39m (\u001b[39m1\u001b[39m \u001b[39m+\u001b[39m \u001b[39m0.5\u001b[39m \u001b[39m*\u001b[39m (step \u001b[39m/\u001b[39m (\u001b[39m5000\u001b[39m \u001b[39m/\u001b[39m\u001b[39m/\u001b[39m \u001b[39m5\u001b[39m)))))\n\u001b[0;32m---> 15\u001b[0m losshistory, train_state \u001b[39m=\u001b[39m model\u001b[39m.\u001b[39;49mtrain(iterations\u001b[39m=\u001b[39;49m\u001b[39m20000\u001b[39;49m, batch_size \u001b[39m=\u001b[39;49m \u001b[39m1\u001b[39;49m)\n\u001b[1;32m     16\u001b[0m dde\u001b[39m.\u001b[39mutils\u001b[39m.\u001b[39mplot_loss_history(losshistory)\n",
      "File \u001b[0;32m/mnt/d/gitfile/Codes/Python/Project-RAS/deepxde/deepxde/utils/internal.py:22\u001b[0m, in \u001b[0;36mtiming.<locals>.wrapper\u001b[0;34m(*args, **kwargs)\u001b[0m\n\u001b[1;32m     19\u001b[0m \u001b[39m@wraps\u001b[39m(f)\n\u001b[1;32m     20\u001b[0m \u001b[39mdef\u001b[39;00m \u001b[39mwrapper\u001b[39m(\u001b[39m*\u001b[39margs, \u001b[39m*\u001b[39m\u001b[39m*\u001b[39mkwargs):\n\u001b[1;32m     21\u001b[0m     ts \u001b[39m=\u001b[39m timeit\u001b[39m.\u001b[39mdefault_timer()\n\u001b[0;32m---> 22\u001b[0m     result \u001b[39m=\u001b[39m f(\u001b[39m*\u001b[39;49margs, \u001b[39m*\u001b[39;49m\u001b[39m*\u001b[39;49mkwargs)\n\u001b[1;32m     23\u001b[0m     te \u001b[39m=\u001b[39m timeit\u001b[39m.\u001b[39mdefault_timer()\n\u001b[1;32m     24\u001b[0m     \u001b[39mif\u001b[39;00m config\u001b[39m.\u001b[39mrank \u001b[39m==\u001b[39m \u001b[39m0\u001b[39m:\n",
      "File \u001b[0;32m/mnt/d/gitfile/Codes/Python/Project-RAS/deepxde/deepxde/model.py:639\u001b[0m, in \u001b[0;36mModel.train\u001b[0;34m(self, iterations, batch_size, display_every, disregard_previous_best, callbacks, model_restore_path, model_save_path, epochs)\u001b[0m\n\u001b[1;32m    637\u001b[0m     \u001b[39mif\u001b[39;00m iterations \u001b[39mis\u001b[39;00m \u001b[39mNone\u001b[39;00m:\n\u001b[1;32m    638\u001b[0m         \u001b[39mraise\u001b[39;00m \u001b[39mValueError\u001b[39;00m(\u001b[39m\"\u001b[39m\u001b[39mNo iterations for \u001b[39m\u001b[39m{}\u001b[39;00m\u001b[39m.\u001b[39m\u001b[39m\"\u001b[39m\u001b[39m.\u001b[39mformat(\u001b[39mself\u001b[39m\u001b[39m.\u001b[39mopt_name))\n\u001b[0;32m--> 639\u001b[0m     \u001b[39mself\u001b[39;49m\u001b[39m.\u001b[39;49m_train_sgd(iterations, display_every)\n\u001b[1;32m    640\u001b[0m \u001b[39mself\u001b[39m\u001b[39m.\u001b[39mcallbacks\u001b[39m.\u001b[39mon_train_end()\n\u001b[1;32m    642\u001b[0m \u001b[39mif\u001b[39;00m config\u001b[39m.\u001b[39mrank \u001b[39m==\u001b[39m \u001b[39m0\u001b[39m:\n",
      "File \u001b[0;32m/mnt/d/gitfile/Codes/Python/Project-RAS/deepxde/deepxde/model.py:657\u001b[0m, in \u001b[0;36mModel._train_sgd\u001b[0;34m(self, iterations, display_every)\u001b[0m\n\u001b[1;32m    652\u001b[0m \u001b[39mself\u001b[39m\u001b[39m.\u001b[39mcallbacks\u001b[39m.\u001b[39mon_batch_begin()\n\u001b[1;32m    654\u001b[0m \u001b[39mself\u001b[39m\u001b[39m.\u001b[39mtrain_state\u001b[39m.\u001b[39mset_data_train(\n\u001b[1;32m    655\u001b[0m     \u001b[39m*\u001b[39m\u001b[39mself\u001b[39m\u001b[39m.\u001b[39mdata\u001b[39m.\u001b[39mtrain_next_batch(\u001b[39mself\u001b[39m\u001b[39m.\u001b[39mbatch_size)\n\u001b[1;32m    656\u001b[0m )\n\u001b[0;32m--> 657\u001b[0m \u001b[39mself\u001b[39;49m\u001b[39m.\u001b[39;49m_train_step(\n\u001b[1;32m    658\u001b[0m     \u001b[39mself\u001b[39;49m\u001b[39m.\u001b[39;49mtrain_state\u001b[39m.\u001b[39;49mX_train,\n\u001b[1;32m    659\u001b[0m     \u001b[39mself\u001b[39;49m\u001b[39m.\u001b[39;49mtrain_state\u001b[39m.\u001b[39;49my_train,\n\u001b[1;32m    660\u001b[0m     \u001b[39mself\u001b[39;49m\u001b[39m.\u001b[39;49mtrain_state\u001b[39m.\u001b[39;49mtrain_aux_vars,\n\u001b[1;32m    661\u001b[0m )\n\u001b[1;32m    663\u001b[0m \u001b[39mself\u001b[39m\u001b[39m.\u001b[39mtrain_state\u001b[39m.\u001b[39mepoch \u001b[39m+\u001b[39m\u001b[39m=\u001b[39m \u001b[39m1\u001b[39m\n\u001b[1;32m    664\u001b[0m \u001b[39mself\u001b[39m\u001b[39m.\u001b[39mtrain_state\u001b[39m.\u001b[39mstep \u001b[39m+\u001b[39m\u001b[39m=\u001b[39m \u001b[39m1\u001b[39m\n",
      "File \u001b[0;32m/mnt/d/gitfile/Codes/Python/Project-RAS/deepxde/deepxde/model.py:551\u001b[0m, in \u001b[0;36mModel._train_step\u001b[0;34m(self, inputs, targets, auxiliary_vars)\u001b[0m\n\u001b[1;32m    549\u001b[0m     \u001b[39mself\u001b[39m\u001b[39m.\u001b[39mtrain_step(inputs, targets, auxiliary_vars)\n\u001b[1;32m    550\u001b[0m \u001b[39melif\u001b[39;00m backend_name \u001b[39m==\u001b[39m \u001b[39m\"\u001b[39m\u001b[39mpytorch\u001b[39m\u001b[39m\"\u001b[39m:\n\u001b[0;32m--> 551\u001b[0m     \u001b[39mself\u001b[39;49m\u001b[39m.\u001b[39;49mtrain_step(inputs, targets, auxiliary_vars)\n\u001b[1;32m    552\u001b[0m \u001b[39melif\u001b[39;00m backend_name \u001b[39m==\u001b[39m \u001b[39m\"\u001b[39m\u001b[39mjax\u001b[39m\u001b[39m\"\u001b[39m:\n\u001b[1;32m    553\u001b[0m     \u001b[39m# TODO: auxiliary_vars\u001b[39;00m\n\u001b[1;32m    554\u001b[0m     \u001b[39mself\u001b[39m\u001b[39m.\u001b[39mparams, \u001b[39mself\u001b[39m\u001b[39m.\u001b[39mopt_state \u001b[39m=\u001b[39m \u001b[39mself\u001b[39m\u001b[39m.\u001b[39mtrain_step(\n\u001b[1;32m    555\u001b[0m         \u001b[39mself\u001b[39m\u001b[39m.\u001b[39mparams, \u001b[39mself\u001b[39m\u001b[39m.\u001b[39mopt_state, inputs, targets\n\u001b[1;32m    556\u001b[0m     )\n",
      "File \u001b[0;32m/mnt/d/gitfile/Codes/Python/Project-RAS/deepxde/deepxde/model.py:354\u001b[0m, in \u001b[0;36mModel._compile_pytorch.<locals>.train_step\u001b[0;34m(inputs, targets, auxiliary_vars)\u001b[0m\n\u001b[1;32m    351\u001b[0m     total_loss\u001b[39m.\u001b[39mbackward()\n\u001b[1;32m    352\u001b[0m     \u001b[39mreturn\u001b[39;00m total_loss\n\u001b[0;32m--> 354\u001b[0m \u001b[39mself\u001b[39;49m\u001b[39m.\u001b[39;49mopt\u001b[39m.\u001b[39;49mstep(closure)\n\u001b[1;32m    355\u001b[0m \u001b[39mif\u001b[39;00m \u001b[39mself\u001b[39m\u001b[39m.\u001b[39mlr_scheduler \u001b[39mis\u001b[39;00m \u001b[39mnot\u001b[39;00m \u001b[39mNone\u001b[39;00m:\n\u001b[1;32m    356\u001b[0m     \u001b[39mself\u001b[39m\u001b[39m.\u001b[39mlr_scheduler\u001b[39m.\u001b[39mstep()\n",
      "File \u001b[0;32m~/apps/miniconda3/envs/pial/lib/python3.10/site-packages/torch/optim/lr_scheduler.py:69\u001b[0m, in \u001b[0;36mLRScheduler.__init__.<locals>.with_counter.<locals>.wrapper\u001b[0;34m(*args, **kwargs)\u001b[0m\n\u001b[1;32m     67\u001b[0m instance\u001b[39m.\u001b[39m_step_count \u001b[39m+\u001b[39m\u001b[39m=\u001b[39m \u001b[39m1\u001b[39m\n\u001b[1;32m     68\u001b[0m wrapped \u001b[39m=\u001b[39m func\u001b[39m.\u001b[39m\u001b[39m__get__\u001b[39m(instance, \u001b[39mcls\u001b[39m)\n\u001b[0;32m---> 69\u001b[0m \u001b[39mreturn\u001b[39;00m wrapped(\u001b[39m*\u001b[39;49margs, \u001b[39m*\u001b[39;49m\u001b[39m*\u001b[39;49mkwargs)\n",
      "File \u001b[0;32m~/apps/miniconda3/envs/pial/lib/python3.10/site-packages/torch/optim/optimizer.py:280\u001b[0m, in \u001b[0;36mOptimizer.profile_hook_step.<locals>.wrapper\u001b[0;34m(*args, **kwargs)\u001b[0m\n\u001b[1;32m    276\u001b[0m         \u001b[39melse\u001b[39;00m:\n\u001b[1;32m    277\u001b[0m             \u001b[39mraise\u001b[39;00m \u001b[39mRuntimeError\u001b[39;00m(\u001b[39mf\u001b[39m\u001b[39m\"\u001b[39m\u001b[39m{\u001b[39;00mfunc\u001b[39m}\u001b[39;00m\u001b[39m must return None or a tuple of (new_args, new_kwargs),\u001b[39m\u001b[39m\"\u001b[39m\n\u001b[1;32m    278\u001b[0m                                \u001b[39mf\u001b[39m\u001b[39m\"\u001b[39m\u001b[39mbut got \u001b[39m\u001b[39m{\u001b[39;00mresult\u001b[39m}\u001b[39;00m\u001b[39m.\u001b[39m\u001b[39m\"\u001b[39m)\n\u001b[0;32m--> 280\u001b[0m out \u001b[39m=\u001b[39m func(\u001b[39m*\u001b[39;49margs, \u001b[39m*\u001b[39;49m\u001b[39m*\u001b[39;49mkwargs)\n\u001b[1;32m    281\u001b[0m \u001b[39mself\u001b[39m\u001b[39m.\u001b[39m_optimizer_step_code()\n\u001b[1;32m    283\u001b[0m \u001b[39m# call optimizer step post hooks\u001b[39;00m\n",
      "File \u001b[0;32m~/apps/miniconda3/envs/pial/lib/python3.10/site-packages/torch/optim/optimizer.py:33\u001b[0m, in \u001b[0;36m_use_grad_for_differentiable.<locals>._use_grad\u001b[0;34m(self, *args, **kwargs)\u001b[0m\n\u001b[1;32m     31\u001b[0m \u001b[39mtry\u001b[39;00m:\n\u001b[1;32m     32\u001b[0m     torch\u001b[39m.\u001b[39mset_grad_enabled(\u001b[39mself\u001b[39m\u001b[39m.\u001b[39mdefaults[\u001b[39m'\u001b[39m\u001b[39mdifferentiable\u001b[39m\u001b[39m'\u001b[39m])\n\u001b[0;32m---> 33\u001b[0m     ret \u001b[39m=\u001b[39m func(\u001b[39mself\u001b[39;49m, \u001b[39m*\u001b[39;49margs, \u001b[39m*\u001b[39;49m\u001b[39m*\u001b[39;49mkwargs)\n\u001b[1;32m     34\u001b[0m \u001b[39mfinally\u001b[39;00m:\n\u001b[1;32m     35\u001b[0m     torch\u001b[39m.\u001b[39mset_grad_enabled(prev_grad)\n",
      "File \u001b[0;32m~/apps/miniconda3/envs/pial/lib/python3.10/site-packages/torch/optim/adam.py:141\u001b[0m, in \u001b[0;36mAdam.step\u001b[0;34m(self, closure)\u001b[0m\n\u001b[1;32m    130\u001b[0m     beta1, beta2 \u001b[39m=\u001b[39m group[\u001b[39m'\u001b[39m\u001b[39mbetas\u001b[39m\u001b[39m'\u001b[39m]\n\u001b[1;32m    132\u001b[0m     \u001b[39mself\u001b[39m\u001b[39m.\u001b[39m_init_group(\n\u001b[1;32m    133\u001b[0m         group,\n\u001b[1;32m    134\u001b[0m         params_with_grad,\n\u001b[0;32m   (...)\u001b[0m\n\u001b[1;32m    138\u001b[0m         max_exp_avg_sqs,\n\u001b[1;32m    139\u001b[0m         state_steps)\n\u001b[0;32m--> 141\u001b[0m     adam(\n\u001b[1;32m    142\u001b[0m         params_with_grad,\n\u001b[1;32m    143\u001b[0m         grads,\n\u001b[1;32m    144\u001b[0m         exp_avgs,\n\u001b[1;32m    145\u001b[0m         exp_avg_sqs,\n\u001b[1;32m    146\u001b[0m         max_exp_avg_sqs,\n\u001b[1;32m    147\u001b[0m         state_steps,\n\u001b[1;32m    148\u001b[0m         amsgrad\u001b[39m=\u001b[39;49mgroup[\u001b[39m'\u001b[39;49m\u001b[39mamsgrad\u001b[39;49m\u001b[39m'\u001b[39;49m],\n\u001b[1;32m    149\u001b[0m         beta1\u001b[39m=\u001b[39;49mbeta1,\n\u001b[1;32m    150\u001b[0m         beta2\u001b[39m=\u001b[39;49mbeta2,\n\u001b[1;32m    151\u001b[0m         lr\u001b[39m=\u001b[39;49mgroup[\u001b[39m'\u001b[39;49m\u001b[39mlr\u001b[39;49m\u001b[39m'\u001b[39;49m],\n\u001b[1;32m    152\u001b[0m         weight_decay\u001b[39m=\u001b[39;49mgroup[\u001b[39m'\u001b[39;49m\u001b[39mweight_decay\u001b[39;49m\u001b[39m'\u001b[39;49m],\n\u001b[1;32m    153\u001b[0m         eps\u001b[39m=\u001b[39;49mgroup[\u001b[39m'\u001b[39;49m\u001b[39meps\u001b[39;49m\u001b[39m'\u001b[39;49m],\n\u001b[1;32m    154\u001b[0m         maximize\u001b[39m=\u001b[39;49mgroup[\u001b[39m'\u001b[39;49m\u001b[39mmaximize\u001b[39;49m\u001b[39m'\u001b[39;49m],\n\u001b[1;32m    155\u001b[0m         foreach\u001b[39m=\u001b[39;49mgroup[\u001b[39m'\u001b[39;49m\u001b[39mforeach\u001b[39;49m\u001b[39m'\u001b[39;49m],\n\u001b[1;32m    156\u001b[0m         capturable\u001b[39m=\u001b[39;49mgroup[\u001b[39m'\u001b[39;49m\u001b[39mcapturable\u001b[39;49m\u001b[39m'\u001b[39;49m],\n\u001b[1;32m    157\u001b[0m         differentiable\u001b[39m=\u001b[39;49mgroup[\u001b[39m'\u001b[39;49m\u001b[39mdifferentiable\u001b[39;49m\u001b[39m'\u001b[39;49m],\n\u001b[1;32m    158\u001b[0m         fused\u001b[39m=\u001b[39;49mgroup[\u001b[39m'\u001b[39;49m\u001b[39mfused\u001b[39;49m\u001b[39m'\u001b[39;49m],\n\u001b[1;32m    159\u001b[0m         grad_scale\u001b[39m=\u001b[39;49m\u001b[39mgetattr\u001b[39;49m(\u001b[39mself\u001b[39;49m, \u001b[39m\"\u001b[39;49m\u001b[39mgrad_scale\u001b[39;49m\u001b[39m\"\u001b[39;49m, \u001b[39mNone\u001b[39;49;00m),\n\u001b[1;32m    160\u001b[0m         found_inf\u001b[39m=\u001b[39;49m\u001b[39mgetattr\u001b[39;49m(\u001b[39mself\u001b[39;49m, \u001b[39m\"\u001b[39;49m\u001b[39mfound_inf\u001b[39;49m\u001b[39m\"\u001b[39;49m, \u001b[39mNone\u001b[39;49;00m),\n\u001b[1;32m    161\u001b[0m     )\n\u001b[1;32m    163\u001b[0m \u001b[39mreturn\u001b[39;00m loss\n",
      "File \u001b[0;32m~/apps/miniconda3/envs/pial/lib/python3.10/site-packages/torch/optim/adam.py:281\u001b[0m, in \u001b[0;36madam\u001b[0;34m(params, grads, exp_avgs, exp_avg_sqs, max_exp_avg_sqs, state_steps, foreach, capturable, differentiable, fused, grad_scale, found_inf, amsgrad, beta1, beta2, lr, weight_decay, eps, maximize)\u001b[0m\n\u001b[1;32m    278\u001b[0m \u001b[39melse\u001b[39;00m:\n\u001b[1;32m    279\u001b[0m     func \u001b[39m=\u001b[39m _single_tensor_adam\n\u001b[0;32m--> 281\u001b[0m func(params,\n\u001b[1;32m    282\u001b[0m      grads,\n\u001b[1;32m    283\u001b[0m      exp_avgs,\n\u001b[1;32m    284\u001b[0m      exp_avg_sqs,\n\u001b[1;32m    285\u001b[0m      max_exp_avg_sqs,\n\u001b[1;32m    286\u001b[0m      state_steps,\n\u001b[1;32m    287\u001b[0m      amsgrad\u001b[39m=\u001b[39;49mamsgrad,\n\u001b[1;32m    288\u001b[0m      beta1\u001b[39m=\u001b[39;49mbeta1,\n\u001b[1;32m    289\u001b[0m      beta2\u001b[39m=\u001b[39;49mbeta2,\n\u001b[1;32m    290\u001b[0m      lr\u001b[39m=\u001b[39;49mlr,\n\u001b[1;32m    291\u001b[0m      weight_decay\u001b[39m=\u001b[39;49mweight_decay,\n\u001b[1;32m    292\u001b[0m      eps\u001b[39m=\u001b[39;49meps,\n\u001b[1;32m    293\u001b[0m      maximize\u001b[39m=\u001b[39;49mmaximize,\n\u001b[1;32m    294\u001b[0m      capturable\u001b[39m=\u001b[39;49mcapturable,\n\u001b[1;32m    295\u001b[0m      differentiable\u001b[39m=\u001b[39;49mdifferentiable,\n\u001b[1;32m    296\u001b[0m      grad_scale\u001b[39m=\u001b[39;49mgrad_scale,\n\u001b[1;32m    297\u001b[0m      found_inf\u001b[39m=\u001b[39;49mfound_inf)\n",
      "File \u001b[0;32m~/apps/miniconda3/envs/pial/lib/python3.10/site-packages/torch/optim/adam.py:505\u001b[0m, in \u001b[0;36m_multi_tensor_adam\u001b[0;34m(params, grads, exp_avgs, exp_avg_sqs, max_exp_avg_sqs, state_steps, grad_scale, found_inf, amsgrad, beta1, beta2, lr, weight_decay, eps, maximize, capturable, differentiable)\u001b[0m\n\u001b[1;32m    503\u001b[0m     denom \u001b[39m=\u001b[39m torch\u001b[39m.\u001b[39m_foreach_add(max_exp_avg_sq_sqrt, eps)\n\u001b[1;32m    504\u001b[0m \u001b[39melse\u001b[39;00m:\n\u001b[0;32m--> 505\u001b[0m     exp_avg_sq_sqrt \u001b[39m=\u001b[39m torch\u001b[39m.\u001b[39;49m_foreach_sqrt(device_exp_avg_sqs)\n\u001b[1;32m    506\u001b[0m     torch\u001b[39m.\u001b[39m_foreach_div_(exp_avg_sq_sqrt, bias_correction2_sqrt)\n\u001b[1;32m    507\u001b[0m     denom \u001b[39m=\u001b[39m torch\u001b[39m.\u001b[39m_foreach_add(exp_avg_sq_sqrt, eps)\n",
      "\u001b[0;31mKeyboardInterrupt\u001b[0m: "
     ]
    }
   ],
   "source": [
    "data = dde.data.TripleCartesianProd(X_train=(train_vxs, train_grid), y_train=train_uxts, X_test=(test_vxs, test_grid), y_test=test_uxts)\n",
    "\n",
    "# Net\n",
    "net = dde.nn.DeepONetCartesianProd(\n",
    "    [101, 128, 128, 128],\n",
    "    [2, 128, 128, 128],\n",
    "    bkd.gelu,\n",
    "    \"Glorot normal\",\n",
    ")\n",
    "\n",
    "net.apply_output_transform(dirichlet)\n",
    "\n",
    "model = dde.Model(data, net)\n",
    "model.compile(\"adam\", lr=1E-3, metrics = [\"mean l2 relative error\"], decay = (\"lambda\", lambda step: 1 / (1 + 0.5 * (step / (5000 // 5)))))\n",
    "losshistory, train_state = model.train(iterations=20000, batch_size = 1)\n",
    "dde.utils.plot_loss_history(losshistory)"
   ]
  },
  {
   "cell_type": "code",
   "execution_count": 6,
   "metadata": {},
   "outputs": [
    {
     "ename": "AxisError",
     "evalue": "axis 1 is out of bounds for array of dimension 1",
     "output_type": "error",
     "traceback": [
      "\u001b[0;31m---------------------------------------------------------------------------\u001b[0m",
      "\u001b[0;31mAxisError\u001b[0m                                 Traceback (most recent call last)",
      "Cell \u001b[0;32mIn[6], line 8\u001b[0m\n\u001b[1;32m      6\u001b[0m grid \u001b[39m=\u001b[39m np\u001b[39m.\u001b[39masarray(np\u001b[39m.\u001b[39mmeshgrid(x_space, t_space, indexing \u001b[39m=\u001b[39m \u001b[39m\"\u001b[39m\u001b[39mij\u001b[39m\u001b[39m\"\u001b[39m))\u001b[39m.\u001b[39mtranspose([\u001b[39m1\u001b[39m,\u001b[39m2\u001b[39m,\u001b[39m0\u001b[39m])\u001b[39m.\u001b[39mreshape(\u001b[39m101\u001b[39m \u001b[39m*\u001b[39m \u001b[39m101\u001b[39m, \u001b[39m-\u001b[39m\u001b[39m1\u001b[39m)\n\u001b[1;32m      7\u001b[0m res \u001b[39m=\u001b[39m model\u001b[39m.\u001b[39mpredict((vxs, grid), operator \u001b[39m=\u001b[39m pde)\n\u001b[0;32m----> 8\u001b[0m res \u001b[39m=\u001b[39m np\u001b[39m.\u001b[39;49mmean(np\u001b[39m.\u001b[39;49mabs(res[\u001b[39m.\u001b[39;49m\u001b[39m.\u001b[39;49m\u001b[39m.\u001b[39;49m,\u001b[39m0\u001b[39;49m]), axis \u001b[39m=\u001b[39;49m \u001b[39m1\u001b[39;49m)\n\u001b[1;32m      9\u001b[0m \u001b[39mprint\u001b[39m(np\u001b[39m.\u001b[39mmean(res), np\u001b[39m.\u001b[39mstd(res))\n\u001b[1;32m     10\u001b[0m topk_index \u001b[39m=\u001b[39m np\u001b[39m.\u001b[39margpartition(res, \u001b[39m-\u001b[39m\u001b[39m20\u001b[39m)[\u001b[39m-\u001b[39m\u001b[39m20\u001b[39m:] \u001b[39m# select the top 20 vxs\u001b[39;00m\n",
      "File \u001b[0;32m~/apps/miniconda3/envs/pial/lib/python3.10/site-packages/numpy/core/fromnumeric.py:3504\u001b[0m, in \u001b[0;36mmean\u001b[0;34m(a, axis, dtype, out, keepdims, where)\u001b[0m\n\u001b[1;32m   3501\u001b[0m     \u001b[39melse\u001b[39;00m:\n\u001b[1;32m   3502\u001b[0m         \u001b[39mreturn\u001b[39;00m mean(axis\u001b[39m=\u001b[39maxis, dtype\u001b[39m=\u001b[39mdtype, out\u001b[39m=\u001b[39mout, \u001b[39m*\u001b[39m\u001b[39m*\u001b[39mkwargs)\n\u001b[0;32m-> 3504\u001b[0m \u001b[39mreturn\u001b[39;00m _methods\u001b[39m.\u001b[39;49m_mean(a, axis\u001b[39m=\u001b[39;49maxis, dtype\u001b[39m=\u001b[39;49mdtype,\n\u001b[1;32m   3505\u001b[0m                       out\u001b[39m=\u001b[39;49mout, \u001b[39m*\u001b[39;49m\u001b[39m*\u001b[39;49mkwargs)\n",
      "File \u001b[0;32m~/apps/miniconda3/envs/pial/lib/python3.10/site-packages/numpy/core/_methods.py:106\u001b[0m, in \u001b[0;36m_mean\u001b[0;34m(a, axis, dtype, out, keepdims, where)\u001b[0m\n\u001b[1;32m    102\u001b[0m arr \u001b[39m=\u001b[39m asanyarray(a)\n\u001b[1;32m    104\u001b[0m is_float16_result \u001b[39m=\u001b[39m \u001b[39mFalse\u001b[39;00m\n\u001b[0;32m--> 106\u001b[0m rcount \u001b[39m=\u001b[39m _count_reduce_items(arr, axis, keepdims\u001b[39m=\u001b[39;49mkeepdims, where\u001b[39m=\u001b[39;49mwhere)\n\u001b[1;32m    107\u001b[0m \u001b[39mif\u001b[39;00m rcount \u001b[39m==\u001b[39m \u001b[39m0\u001b[39m \u001b[39mif\u001b[39;00m where \u001b[39mis\u001b[39;00m \u001b[39mTrue\u001b[39;00m \u001b[39melse\u001b[39;00m umr_any(rcount \u001b[39m==\u001b[39m \u001b[39m0\u001b[39m, axis\u001b[39m=\u001b[39m\u001b[39mNone\u001b[39;00m):\n\u001b[1;32m    108\u001b[0m     warnings\u001b[39m.\u001b[39mwarn(\u001b[39m\"\u001b[39m\u001b[39mMean of empty slice.\u001b[39m\u001b[39m\"\u001b[39m, \u001b[39mRuntimeWarning\u001b[39;00m, stacklevel\u001b[39m=\u001b[39m\u001b[39m2\u001b[39m)\n",
      "File \u001b[0;32m~/apps/miniconda3/envs/pial/lib/python3.10/site-packages/numpy/core/_methods.py:77\u001b[0m, in \u001b[0;36m_count_reduce_items\u001b[0;34m(arr, axis, keepdims, where)\u001b[0m\n\u001b[1;32m     75\u001b[0m     items \u001b[39m=\u001b[39m \u001b[39m1\u001b[39m\n\u001b[1;32m     76\u001b[0m     \u001b[39mfor\u001b[39;00m ax \u001b[39min\u001b[39;00m axis:\n\u001b[0;32m---> 77\u001b[0m         items \u001b[39m*\u001b[39m\u001b[39m=\u001b[39m arr\u001b[39m.\u001b[39mshape[mu\u001b[39m.\u001b[39;49mnormalize_axis_index(ax, arr\u001b[39m.\u001b[39;49mndim)]\n\u001b[1;32m     78\u001b[0m     items \u001b[39m=\u001b[39m nt\u001b[39m.\u001b[39mintp(items)\n\u001b[1;32m     79\u001b[0m \u001b[39melse\u001b[39;00m:\n\u001b[1;32m     80\u001b[0m     \u001b[39m# TODO: Optimize case when `where` is broadcast along a non-reduction\u001b[39;00m\n\u001b[1;32m     81\u001b[0m     \u001b[39m# axis and full sum is more excessive than needed.\u001b[39;00m\n\u001b[1;32m     82\u001b[0m \n\u001b[1;32m     83\u001b[0m     \u001b[39m# guarded to protect circular imports\u001b[39;00m\n",
      "\u001b[0;31mAxisError\u001b[0m: axis 1 is out of bounds for array of dimension 1"
     ]
    }
   ],
   "source": [
    "\n",
    "while len(train_vxs) < 1000:\n",
    "    # generate some vxs to test\n",
    "    x_space = np.linspace(0, 1, 101)\n",
    "    t_space = np.linspace(0, 1, 101)\n",
    "    vxs = space.eval_batch(space.random(1000), x_space[:, None]) # generate 1000 random vxs\n",
    "    grid = np.asarray(np.meshgrid(x_space, t_space, indexing = \"ij\")).transpose([1,2,0]).reshape(101 * 101, -1)\n",
    "    res = model.predict((vxs, grid), operator = pde)\n",
    "    res = np.mean(np.abs(res), axis = 1)\n",
    "    print(np.mean(res), np.std(res))\n",
    "    topk_index = np.argpartition(res, -20)[-20:] # select the top 20 vxs\n",
    "    topk_vxs = vxs[topk_index]\n",
    "    uxts = parallel_solver(diffusion_reaction_solver, topk_vxs, num_workers = 6)\n",
    "    uxts = np.asarray([u for grid, u in uxts]).reshape(-1, 101 * 101)\n",
    "\n",
    "    # then add the new data to the training set, and train the model\n",
    "    train_vxs = np.concatenate([train_vxs, topk_vxs], axis = 0)\n",
    "    train_uxts = np.concatenate([train_uxts, uxts], axis = 0)\n",
    "    \n",
    "    print(len(train_vxs))\n",
    "    data = dde.data.TripleCartesianProd(X_train=(train_vxs, train_grid), y_train=train_uxts, X_test=(test_vxs, test_grid), y_test=test_uxts)\n",
    "    \n",
    "    model = dde.Model(data, net)\n",
    "    batchsize = len(train_vxs) // 10\n",
    "    lr = 1E-3 * np.exp(-len(train_vxs) / 200)\n",
    "    model.compile(\"adam\", \n",
    "                  lr=1e-3, \n",
    "                  metrics = [\"mean l2 relative error\"], \n",
    "                  decay = (\"lambda\", lambda step: 1 / (1 + 0.5 * (step / (20000 // 5)))))\n",
    "    losshistory, train_state = model.train(iterations=20000, batch_size = batchsize)\n",
    "    dde.utils.plot_loss_history(losshistory)\n"
   ]
  }
 ],
 "metadata": {
  "kernelspec": {
   "display_name": "pial",
   "language": "python",
   "name": "python3"
  },
  "language_info": {
   "codemirror_mode": {
    "name": "ipython",
    "version": 3
   },
   "file_extension": ".py",
   "mimetype": "text/x-python",
   "name": "python",
   "nbconvert_exporter": "python",
   "pygments_lexer": "ipython3",
   "version": "3.10.11"
  },
  "orig_nbformat": 4
 },
 "nbformat": 4,
 "nbformat_minor": 2
}
