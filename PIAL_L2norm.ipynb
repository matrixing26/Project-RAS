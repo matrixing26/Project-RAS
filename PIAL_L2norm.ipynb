{
 "cells": [
  {
   "cell_type": "code",
   "execution_count": 6,
   "metadata": {},
   "outputs": [],
   "source": [
    "import numpy as np\n",
    "import matplotlib.pyplot as plt\n",
    "import deepxde.deepxde as dde\n",
    "import deepxde.deepxde.backend as bkd\n",
    "from datasets import makeTesting\n",
    "from datasets import parallel_solver, diffusion_reaction_solver\n",
    "from utils.func import dirichlet"
   ]
  },
  {
   "cell_type": "code",
   "execution_count": 7,
   "metadata": {},
   "outputs": [],
   "source": [
    "if False:\n",
    "    makeTesting()"
   ]
  },
  {
   "cell_type": "code",
   "execution_count": 8,
   "metadata": {},
   "outputs": [],
   "source": [
    "def pde(x, y):\n",
    "    vx = x[0].repeat_interleave(101)[:,None]\n",
    "\n",
    "    D = 0.01\n",
    "    k = 0.01\n",
    "    dy_t = dde.grad.jacobian(y, x[1], j=1)\n",
    "    dy_xx = dde.grad.hessian(y, x[1], j=0)\n",
    "    return dy_t - D * dy_xx + k * y**2 - vx"
   ]
  },
  {
   "cell_type": "code",
   "execution_count": 9,
   "metadata": {},
   "outputs": [
    {
     "name": "stdout",
     "output_type": "stream",
     "text": [
      "(20, 101) (10201, 2) (20, 10201)\n",
      "(100, 101) (10201, 2) (100, 10201)\n"
     ]
    }
   ],
   "source": [
    "space = dde.data.GRF(1.0, length_scale = 0.1, N= 1000, interp=\"cubic\")\n",
    "vxs = space.eval_batch(space.random(20), np.linspace(0, 1, 101)[:, None])\n",
    "uxts = parallel_solver(diffusion_reaction_solver, vxs, num_workers = 6)\n",
    "grid = uxts[0][0].reshape(101 * 101, -1)\n",
    "uxts = np.asarray([u for grid, u in uxts]).reshape(-1, 101 * 101)\n",
    "\n",
    "\n",
    "train_vxs = vxs\n",
    "train_grid = grid\n",
    "train_uxts = uxts\n",
    "print(train_vxs.shape, train_grid.shape, train_uxts.shape)\n",
    "\n",
    "test_data = np.load(\"datasets/DF_100_0.1_101_101.npz\")\n",
    "test_vxs = test_data[\"vxs\"]\n",
    "test_grid = test_data[\"xt\"].reshape(-1, 2)\n",
    "test_uxts = test_data[\"uxts\"].reshape(-1, 101 * 101)\n",
    "del test_data\n",
    "print(test_vxs.shape, test_grid.shape, test_uxts.shape)"
   ]
  },
  {
   "cell_type": "code",
   "execution_count": 10,
   "metadata": {},
   "outputs": [
    {
     "name": "stdout",
     "output_type": "stream",
     "text": [
      "Compiling model...\n",
      "'compile' took 0.001012 s\n",
      "\n",
      "Training model...\n",
      "\n",
      "0         [1.31e-01]    [3.75e-01]    [1.47e+00]    \n",
      "1000      [4.34e-02]    [7.36e-02]    [6.80e-01]    \n",
      "2000      [1.38e-02]    [7.38e-02]    [6.82e-01]    \n",
      "3000      [1.13e-02]    [7.32e-02]    [6.82e-01]    \n",
      "4000      [2.52e-02]    [6.57e-02]    [6.43e-01]    \n",
      "5000      [2.24e-02]    [5.61e-02]    [5.93e-01]    \n",
      "6000      [1.64e-02]    [5.84e-02]    [5.94e-01]    \n",
      "7000      [3.87e-02]    [5.88e-02]    [6.00e-01]    \n",
      "8000      [9.45e-03]    [5.73e-02]    [5.94e-01]    \n"
     ]
    }
   ],
   "source": [
    "data = dde.data.TripleCartesianProd(X_train=(train_vxs, train_grid), y_train=train_uxts, X_test=(test_vxs, test_grid), y_test=test_uxts)\n",
    "\n",
    "# Net\n",
    "net = dde.nn.DeepONetCartesianProd(\n",
    "    [101, 128, 128, 128],\n",
    "    [2, 128, 128, 128],\n",
    "    bkd.gelu,\n",
    "    \"Glorot normal\",\n",
    ")\n",
    "\n",
    "net.apply_output_transform(dirichlet)\n",
    "\n",
    "model = dde.Model(data, net)\n",
    "model.compile(\"adam\", lr=1E-3, metrics = [\"mean l2 relative error\"], decay = (\"lambda\", lambda step: 1 / (1 + 0.5 * (step / (5000 // 5)))))\n",
    "losshistory, train_state = model.train(iterations=20000, batch_size = 1)\n",
    "dde.utils.plot_loss_history(losshistory)"
   ]
  },
  {
   "cell_type": "code",
   "execution_count": null,
   "metadata": {},
   "outputs": [],
   "source": [
    "\n",
    "while len(train_vxs) < 1000:\n",
    "    # generate some vxs to test\n",
    "    x_space = np.linspace(0, 1, 101)\n",
    "    t_space = np.linspace(0, 1, 101)\n",
    "    vxs = space.eval_batch(space.random(100), x_space[:, None])\n",
    "    grid = np.asarray(np.meshgrid(x_space, t_space, indexing = \"ij\")).transpose([1,2,0]).reshape(101 * 101, -1)\n",
    "    res = model.predict((vxs, grid), operator = pde)\n",
    "    res = np.mean(np.abs(res[...,0]), axis = 1)\n",
    "    print(min(res), max(res))\n",
    "    topk_index = np.argpartition(res, -20)[-20:]\n",
    "    topk_vxs = vxs[topk_index]\n",
    "    uxts = parallel_solver(diffusion_reaction_solver, topk_vxs, num_workers = 6)\n",
    "    uxts = np.asarray([u for grid, u in uxts]).reshape(-1, 101 * 101)\n",
    "\n",
    "    # then add the new data to the training set, and train the model\n",
    "    train_vxs = np.concatenate([train_vxs, topk_vxs], axis = 0)\n",
    "    train_uxts = np.concatenate([train_uxts, uxts], axis = 0)\n",
    "    \n",
    "    print(len(train_vxs))\n",
    "    data = dde.data.TripleCartesianProd(X_train=(train_vxs, train_grid), y_train=train_uxts, X_test=(test_vxs, test_grid), y_test=test_uxts)\n",
    "    \n",
    "    model = dde.Model(data, net)\n",
    "    batchsize = len(train_vxs) // 10\n",
    "    lr = 1E-3 * np.exp(-len(train_vxs) / 200)\n",
    "    model.compile(\"adam\", \n",
    "                  lr=lr, \n",
    "                  metrics = [\"mean l2 relative error\"], \n",
    "                  decay = (\"lambda\", lambda step: 1 / (1 + 0.5 * (step / (20000 // 5)))))\n",
    "    losshistory, train_state = model.train(iterations=20000, batch_size = batchsize)\n",
    "        \n"
   ]
  }
 ],
 "metadata": {
  "kernelspec": {
   "display_name": "pial",
   "language": "python",
   "name": "python3"
  },
  "language_info": {
   "codemirror_mode": {
    "name": "ipython",
    "version": 3
   },
   "file_extension": ".py",
   "mimetype": "text/x-python",
   "name": "python",
   "nbconvert_exporter": "python",
   "pygments_lexer": "ipython3",
   "version": "3.10.11"
  },
  "orig_nbformat": 4
 },
 "nbformat": 4,
 "nbformat_minor": 2
}
