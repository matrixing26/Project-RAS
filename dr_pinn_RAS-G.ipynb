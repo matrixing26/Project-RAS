{
 "cells": [
  {
   "cell_type": "code",
   "execution_count": 1,
   "metadata": {},
   "outputs": [
    {
     "name": "stderr",
     "output_type": "stream",
     "text": [
      "Using backend: pytorch\n",
      "Other supported backends: tensorflow.compat.v1, tensorflow, jax, paddle.\n",
      "paddle supports more examples now and is recommended.\n"
     ]
    }
   ],
   "source": [
    "import numpy as np\n",
    "import pandas as pd\n",
    "import time\n",
    "import matplotlib.pyplot as plt\n",
    "import deepxde.deepxde as dde\n",
    "import deepxde.deepxde.backend as bkd\n",
    "from datasets import makeTesting\n",
    "from datasets import parallel_solver, diffusion_reaction_solver\n",
    "from utils.func import dirichlet, periodic\n",
    "from utils.PDETriple import PDETripleCartesianProd\n",
    "\n",
    "date = time.strftime(\"%Y%m%d-%H:%M:%S\", time.localtime())"
   ]
  },
  {
   "cell_type": "code",
   "execution_count": 2,
   "metadata": {},
   "outputs": [],
   "source": [
    "if False:\n",
    "    makeTesting()"
   ]
  },
  {
   "cell_type": "code",
   "execution_count": 3,
   "metadata": {},
   "outputs": [],
   "source": [
    "class boundary():\n",
    "    def __init__(self, loss_coeff = 1, value = 0):\n",
    "        self.loss_coeff = loss_coeff\n",
    "        self.value = value\n",
    "    \n",
    "    def __call__(self, targets, outputs):\n",
    "        return self.loss_coeff * (outputs - self.value).abs().mean()"
   ]
  },
  {
   "cell_type": "code",
   "execution_count": 4,
   "metadata": {},
   "outputs": [],
   "source": [
    "def pde(x, y, aux):\n",
    "    D = 0.01\n",
    "    k = 0.01\n",
    "    dy_t = dde.grad.jacobian(y, x[1], j=1)\n",
    "    dy_xx = dde.grad.hessian(y, x[1], j=0)\n",
    "    out = dy_t - D * dy_xx + k * y**2 - aux\n",
    "    return out"
   ]
  },
  {
   "cell_type": "code",
   "execution_count": 5,
   "metadata": {},
   "outputs": [
    {
     "name": "stdout",
     "output_type": "stream",
     "text": [
      "(20, 101) (10201, 2) (20, 10201)\n",
      "(100, 101) (10201, 2) (100, 10201)\n"
     ]
    }
   ],
   "source": [
    "space = dde.data.GRF(1.0, length_scale = 0.1, N= 1000, interp=\"cubic\")\n",
    "\n",
    "geom = dde.geometry.Interval(0, 1)\n",
    "timedomain = dde.geometry.TimeDomain(0, 1)\n",
    "geomtime = dde.geometry.GeometryXTime(geom, timedomain)\n",
    "vxs = space.eval_batch(space.random(20), np.linspace(0, 1, 101)[:, None])\n",
    "uxts = parallel_solver(diffusion_reaction_solver, vxs, num_workers = 3)\n",
    "grid = uxts[0][0].reshape(101 * 101, -1)\n",
    "uxts = np.asarray([u for grid, u in uxts]).reshape(-1, 101 * 101)\n",
    "\n",
    "\n",
    "train_vxs = vxs\n",
    "train_grid = grid\n",
    "train_uxts = uxts\n",
    "print(train_vxs.shape, train_grid.shape, train_uxts.shape)\n",
    "\n",
    "test_data = np.load(\"datasets/DF_100_0.1_101_101.npz\")\n",
    "test_vxs = test_data[\"vxs\"]\n",
    "test_grid = test_data[\"xt\"].reshape(-1, 2)\n",
    "test_uxts = test_data[\"uxts\"].reshape(-1, 101 * 101)\n",
    "del test_data\n",
    "print(test_vxs.shape, test_grid.shape, test_uxts.shape)"
   ]
  },
  {
   "cell_type": "code",
   "execution_count": 6,
   "metadata": {},
   "outputs": [
    {
     "name": "stdout",
     "output_type": "stream",
     "text": [
      "(101,) (202,)\n"
     ]
    }
   ],
   "source": [
    "init_indices = (grid[:, 1] == 0).nonzero()[0]\n",
    "bound_indices = np.logical_or(grid[:, 0] == 0, grid[:, 0] == 1).nonzero()[0]\n",
    "boundary_losses = []\n",
    "boundary_losses.append((init_indices, boundary()))\n",
    "boundary_losses.append((bound_indices, boundary()))\n",
    "print(init_indices.shape, bound_indices.shape)"
   ]
  },
  {
   "cell_type": "code",
   "execution_count": 7,
   "metadata": {},
   "outputs": [
    {
     "name": "stdout",
     "output_type": "stream",
     "text": [
      "Compiling model...\n",
      "'compile' took 0.000407 s\n",
      "\n"
     ]
    }
   ],
   "source": [
    "data = PDETripleCartesianProd(X_train=(train_vxs, train_grid), y_train=train_uxts, X_test=(test_vxs, test_grid), y_test=test_uxts, boundary = boundary_losses)\n",
    "\n",
    "# Net\n",
    "net = dde.nn.DeepONetCartesianProd(\n",
    "    [101, 100, 100],\n",
    "    [2, 100, 100, 100],\n",
    "    \"gelu\",\n",
    "    \"Glorot normal\",\n",
    ")\n",
    "\n",
    "# net.apply_feature_transform(periodic)\n",
    "net.apply_output_transform(dirichlet)\n",
    "\n",
    "model = dde.Model(data, net)\n",
    "model.compile(\"adam\", lr=1E-3, loss= [\"mse\"], metrics = [\"mean l2 relative error\"])\n"
   ]
  },
  {
   "cell_type": "code",
   "execution_count": 8,
   "metadata": {},
   "outputs": [
    {
     "name": "stdout",
     "output_type": "stream",
     "text": [
      "Training model...\n",
      "\n"
     ]
    },
    {
     "ename": "RuntimeError",
     "evalue": "mat1 and mat2 shapes cannot be multiplied (2x101 and 100x100)",
     "output_type": "error",
     "traceback": [
      "\u001b[0;31m---------------------------------------------------------------------------\u001b[0m",
      "\u001b[0;31mRuntimeError\u001b[0m                              Traceback (most recent call last)",
      "Cell \u001b[0;32mIn[8], line 1\u001b[0m\n\u001b[0;32m----> 1\u001b[0m losshistory, train_state \u001b[39m=\u001b[39m model\u001b[39m.\u001b[39;49mtrain(iterations\u001b[39m=\u001b[39;49m\u001b[39m20000\u001b[39;49m, batch_size \u001b[39m=\u001b[39;49m \u001b[39m2\u001b[39;49m)\n\u001b[1;32m      2\u001b[0m dde\u001b[39m.\u001b[39mutils\u001b[39m.\u001b[39mplot_loss_history(losshistory)\n",
      "File \u001b[0;32m/mnt/d/gitfile/Codes/Python/Project-RAS/deepxde/deepxde/utils/internal.py:22\u001b[0m, in \u001b[0;36mtiming.<locals>.wrapper\u001b[0;34m(*args, **kwargs)\u001b[0m\n\u001b[1;32m     19\u001b[0m \u001b[39m@wraps\u001b[39m(f)\n\u001b[1;32m     20\u001b[0m \u001b[39mdef\u001b[39;00m \u001b[39mwrapper\u001b[39m(\u001b[39m*\u001b[39margs, \u001b[39m*\u001b[39m\u001b[39m*\u001b[39mkwargs):\n\u001b[1;32m     21\u001b[0m     ts \u001b[39m=\u001b[39m timeit\u001b[39m.\u001b[39mdefault_timer()\n\u001b[0;32m---> 22\u001b[0m     result \u001b[39m=\u001b[39m f(\u001b[39m*\u001b[39;49margs, \u001b[39m*\u001b[39;49m\u001b[39m*\u001b[39;49mkwargs)\n\u001b[1;32m     23\u001b[0m     te \u001b[39m=\u001b[39m timeit\u001b[39m.\u001b[39mdefault_timer()\n\u001b[1;32m     24\u001b[0m     \u001b[39mif\u001b[39;00m config\u001b[39m.\u001b[39mrank \u001b[39m==\u001b[39m \u001b[39m0\u001b[39m:\n",
      "File \u001b[0;32m/mnt/d/gitfile/Codes/Python/Project-RAS/deepxde/deepxde/model.py:630\u001b[0m, in \u001b[0;36mModel.train\u001b[0;34m(self, iterations, batch_size, display_every, disregard_previous_best, callbacks, model_restore_path, model_save_path, epochs)\u001b[0m\n\u001b[1;32m    628\u001b[0m \u001b[39mself\u001b[39m\u001b[39m.\u001b[39mtrain_state\u001b[39m.\u001b[39mset_data_train(\u001b[39m*\u001b[39m\u001b[39mself\u001b[39m\u001b[39m.\u001b[39mdata\u001b[39m.\u001b[39mtrain_next_batch(\u001b[39mself\u001b[39m\u001b[39m.\u001b[39mbatch_size))\n\u001b[1;32m    629\u001b[0m \u001b[39mself\u001b[39m\u001b[39m.\u001b[39mtrain_state\u001b[39m.\u001b[39mset_data_test(\u001b[39m*\u001b[39m\u001b[39mself\u001b[39m\u001b[39m.\u001b[39mdata\u001b[39m.\u001b[39mtest())\n\u001b[0;32m--> 630\u001b[0m \u001b[39mself\u001b[39;49m\u001b[39m.\u001b[39;49m_test()\n\u001b[1;32m    631\u001b[0m \u001b[39mself\u001b[39m\u001b[39m.\u001b[39mcallbacks\u001b[39m.\u001b[39mon_train_begin()\n\u001b[1;32m    632\u001b[0m \u001b[39mif\u001b[39;00m optimizers\u001b[39m.\u001b[39mis_external_optimizer(\u001b[39mself\u001b[39m\u001b[39m.\u001b[39mopt_name):\n",
      "File \u001b[0;32m/mnt/d/gitfile/Codes/Python/Project-RAS/deepxde/deepxde/model.py:819\u001b[0m, in \u001b[0;36mModel._test\u001b[0;34m(self)\u001b[0m\n\u001b[1;32m    814\u001b[0m \u001b[39mdef\u001b[39;00m \u001b[39m_test\u001b[39m(\u001b[39mself\u001b[39m):\n\u001b[1;32m    815\u001b[0m     \u001b[39m# TODO Now only print the training loss in rank 0. The correct way is to print the average training loss of all ranks.\u001b[39;00m\n\u001b[1;32m    816\u001b[0m     (\n\u001b[1;32m    817\u001b[0m         \u001b[39mself\u001b[39m\u001b[39m.\u001b[39mtrain_state\u001b[39m.\u001b[39my_pred_train,\n\u001b[1;32m    818\u001b[0m         \u001b[39mself\u001b[39m\u001b[39m.\u001b[39mtrain_state\u001b[39m.\u001b[39mloss_train,\n\u001b[0;32m--> 819\u001b[0m     ) \u001b[39m=\u001b[39m \u001b[39mself\u001b[39;49m\u001b[39m.\u001b[39;49m_outputs_losses(\n\u001b[1;32m    820\u001b[0m         \u001b[39mTrue\u001b[39;49;00m,\n\u001b[1;32m    821\u001b[0m         \u001b[39mself\u001b[39;49m\u001b[39m.\u001b[39;49mtrain_state\u001b[39m.\u001b[39;49mX_train,\n\u001b[1;32m    822\u001b[0m         \u001b[39mself\u001b[39;49m\u001b[39m.\u001b[39;49mtrain_state\u001b[39m.\u001b[39;49my_train,\n\u001b[1;32m    823\u001b[0m         \u001b[39mself\u001b[39;49m\u001b[39m.\u001b[39;49mtrain_state\u001b[39m.\u001b[39;49mtrain_aux_vars,\n\u001b[1;32m    824\u001b[0m     )\n\u001b[1;32m    825\u001b[0m     \u001b[39mself\u001b[39m\u001b[39m.\u001b[39mtrain_state\u001b[39m.\u001b[39my_pred_test, \u001b[39mself\u001b[39m\u001b[39m.\u001b[39mtrain_state\u001b[39m.\u001b[39mloss_test \u001b[39m=\u001b[39m \u001b[39mself\u001b[39m\u001b[39m.\u001b[39m_outputs_losses(\n\u001b[1;32m    826\u001b[0m         \u001b[39mFalse\u001b[39;00m,\n\u001b[1;32m    827\u001b[0m         \u001b[39mself\u001b[39m\u001b[39m.\u001b[39mtrain_state\u001b[39m.\u001b[39mX_test,\n\u001b[1;32m    828\u001b[0m         \u001b[39mself\u001b[39m\u001b[39m.\u001b[39mtrain_state\u001b[39m.\u001b[39my_test,\n\u001b[1;32m    829\u001b[0m         \u001b[39mself\u001b[39m\u001b[39m.\u001b[39mtrain_state\u001b[39m.\u001b[39mtest_aux_vars,\n\u001b[1;32m    830\u001b[0m     )\n\u001b[1;32m    832\u001b[0m     \u001b[39mif\u001b[39;00m \u001b[39misinstance\u001b[39m(\u001b[39mself\u001b[39m\u001b[39m.\u001b[39mtrain_state\u001b[39m.\u001b[39my_test, (\u001b[39mlist\u001b[39m, \u001b[39mtuple\u001b[39m)):\n",
      "File \u001b[0;32m/mnt/d/gitfile/Codes/Python/Project-RAS/deepxde/deepxde/model.py:540\u001b[0m, in \u001b[0;36mModel._outputs_losses\u001b[0;34m(self, training, inputs, targets, auxiliary_vars)\u001b[0m\n\u001b[1;32m    538\u001b[0m \u001b[39melif\u001b[39;00m backend_name \u001b[39m==\u001b[39m \u001b[39m\"\u001b[39m\u001b[39mpytorch\u001b[39m\u001b[39m\"\u001b[39m:\n\u001b[1;32m    539\u001b[0m     \u001b[39mself\u001b[39m\u001b[39m.\u001b[39mnet\u001b[39m.\u001b[39mrequires_grad_(requires_grad\u001b[39m=\u001b[39m\u001b[39mFalse\u001b[39;00m)\n\u001b[0;32m--> 540\u001b[0m     outs \u001b[39m=\u001b[39m outputs_losses(inputs, targets, auxiliary_vars)\n\u001b[1;32m    541\u001b[0m     \u001b[39mself\u001b[39m\u001b[39m.\u001b[39mnet\u001b[39m.\u001b[39mrequires_grad_()\n\u001b[1;32m    542\u001b[0m \u001b[39melif\u001b[39;00m backend_name \u001b[39m==\u001b[39m \u001b[39m\"\u001b[39m\u001b[39mjax\u001b[39m\u001b[39m\"\u001b[39m:\n\u001b[1;32m    543\u001b[0m     \u001b[39m# TODO: auxiliary_vars\u001b[39;00m\n",
      "File \u001b[0;32m/mnt/d/gitfile/Codes/Python/Project-RAS/deepxde/deepxde/model.py:317\u001b[0m, in \u001b[0;36mModel._compile_pytorch.<locals>.outputs_losses_train\u001b[0;34m(inputs, targets, auxiliary_vars)\u001b[0m\n\u001b[1;32m    316\u001b[0m \u001b[39mdef\u001b[39;00m \u001b[39moutputs_losses_train\u001b[39m(inputs, targets, auxiliary_vars):\n\u001b[0;32m--> 317\u001b[0m     \u001b[39mreturn\u001b[39;00m outputs_losses(\n\u001b[1;32m    318\u001b[0m         \u001b[39mTrue\u001b[39;49;00m, inputs, targets, auxiliary_vars, \u001b[39mself\u001b[39;49m\u001b[39m.\u001b[39;49mdata\u001b[39m.\u001b[39;49mlosses_train\n\u001b[1;32m    319\u001b[0m     )\n",
      "File \u001b[0;32m/mnt/d/gitfile/Codes/Python/Project-RAS/deepxde/deepxde/model.py:301\u001b[0m, in \u001b[0;36mModel._compile_pytorch.<locals>.outputs_losses\u001b[0;34m(training, inputs, targets, auxiliary_vars, losses_fn)\u001b[0m\n\u001b[1;32m    299\u001b[0m     inputs \u001b[39m=\u001b[39m torch\u001b[39m.\u001b[39mas_tensor(inputs, dtype\u001b[39m=\u001b[39mdtype)\n\u001b[1;32m    300\u001b[0m     inputs\u001b[39m.\u001b[39mrequires_grad_()\n\u001b[0;32m--> 301\u001b[0m outputs_ \u001b[39m=\u001b[39m \u001b[39mself\u001b[39;49m\u001b[39m.\u001b[39;49mnet(inputs)\n\u001b[1;32m    302\u001b[0m \u001b[39m# Data losses\u001b[39;00m\n\u001b[1;32m    303\u001b[0m \u001b[39mif\u001b[39;00m targets \u001b[39mis\u001b[39;00m \u001b[39mnot\u001b[39;00m \u001b[39mNone\u001b[39;00m:\n",
      "File \u001b[0;32m~/apps/miniconda3/envs/pial/lib/python3.10/site-packages/torch/nn/modules/module.py:1501\u001b[0m, in \u001b[0;36mModule._call_impl\u001b[0;34m(self, *args, **kwargs)\u001b[0m\n\u001b[1;32m   1496\u001b[0m \u001b[39m# If we don't have any hooks, we want to skip the rest of the logic in\u001b[39;00m\n\u001b[1;32m   1497\u001b[0m \u001b[39m# this function, and just call forward.\u001b[39;00m\n\u001b[1;32m   1498\u001b[0m \u001b[39mif\u001b[39;00m \u001b[39mnot\u001b[39;00m (\u001b[39mself\u001b[39m\u001b[39m.\u001b[39m_backward_hooks \u001b[39mor\u001b[39;00m \u001b[39mself\u001b[39m\u001b[39m.\u001b[39m_backward_pre_hooks \u001b[39mor\u001b[39;00m \u001b[39mself\u001b[39m\u001b[39m.\u001b[39m_forward_hooks \u001b[39mor\u001b[39;00m \u001b[39mself\u001b[39m\u001b[39m.\u001b[39m_forward_pre_hooks\n\u001b[1;32m   1499\u001b[0m         \u001b[39mor\u001b[39;00m _global_backward_pre_hooks \u001b[39mor\u001b[39;00m _global_backward_hooks\n\u001b[1;32m   1500\u001b[0m         \u001b[39mor\u001b[39;00m _global_forward_hooks \u001b[39mor\u001b[39;00m _global_forward_pre_hooks):\n\u001b[0;32m-> 1501\u001b[0m     \u001b[39mreturn\u001b[39;00m forward_call(\u001b[39m*\u001b[39;49margs, \u001b[39m*\u001b[39;49m\u001b[39m*\u001b[39;49mkwargs)\n\u001b[1;32m   1502\u001b[0m \u001b[39m# Do not call functions when jit is used\u001b[39;00m\n\u001b[1;32m   1503\u001b[0m full_backward_hooks, non_full_backward_hooks \u001b[39m=\u001b[39m [], []\n",
      "File \u001b[0;32m/mnt/d/gitfile/Codes/Python/Project-RAS/deepxde/deepxde/nn/pytorch/deeponet.py:113\u001b[0m, in \u001b[0;36mDeepONetCartesianProd.forward\u001b[0;34m(self, inputs)\u001b[0m\n\u001b[1;32m    111\u001b[0m x_loc \u001b[39m=\u001b[39m inputs[\u001b[39m1\u001b[39m]\n\u001b[1;32m    112\u001b[0m \u001b[39m# Branch net to encode the input function\u001b[39;00m\n\u001b[0;32m--> 113\u001b[0m x_func \u001b[39m=\u001b[39m \u001b[39mself\u001b[39;49m\u001b[39m.\u001b[39;49mbranch(x_func)\n\u001b[1;32m    114\u001b[0m \u001b[39m# Trunk net to encode the domain of the output function\u001b[39;00m\n\u001b[1;32m    115\u001b[0m \u001b[39mif\u001b[39;00m \u001b[39mself\u001b[39m\u001b[39m.\u001b[39m_input_transform \u001b[39mis\u001b[39;00m \u001b[39mnot\u001b[39;00m \u001b[39mNone\u001b[39;00m:\n",
      "File \u001b[0;32m~/apps/miniconda3/envs/pial/lib/python3.10/site-packages/torch/nn/modules/module.py:1501\u001b[0m, in \u001b[0;36mModule._call_impl\u001b[0;34m(self, *args, **kwargs)\u001b[0m\n\u001b[1;32m   1496\u001b[0m \u001b[39m# If we don't have any hooks, we want to skip the rest of the logic in\u001b[39;00m\n\u001b[1;32m   1497\u001b[0m \u001b[39m# this function, and just call forward.\u001b[39;00m\n\u001b[1;32m   1498\u001b[0m \u001b[39mif\u001b[39;00m \u001b[39mnot\u001b[39;00m (\u001b[39mself\u001b[39m\u001b[39m.\u001b[39m_backward_hooks \u001b[39mor\u001b[39;00m \u001b[39mself\u001b[39m\u001b[39m.\u001b[39m_backward_pre_hooks \u001b[39mor\u001b[39;00m \u001b[39mself\u001b[39m\u001b[39m.\u001b[39m_forward_hooks \u001b[39mor\u001b[39;00m \u001b[39mself\u001b[39m\u001b[39m.\u001b[39m_forward_pre_hooks\n\u001b[1;32m   1499\u001b[0m         \u001b[39mor\u001b[39;00m _global_backward_pre_hooks \u001b[39mor\u001b[39;00m _global_backward_hooks\n\u001b[1;32m   1500\u001b[0m         \u001b[39mor\u001b[39;00m _global_forward_hooks \u001b[39mor\u001b[39;00m _global_forward_pre_hooks):\n\u001b[0;32m-> 1501\u001b[0m     \u001b[39mreturn\u001b[39;00m forward_call(\u001b[39m*\u001b[39;49margs, \u001b[39m*\u001b[39;49m\u001b[39m*\u001b[39;49mkwargs)\n\u001b[1;32m   1502\u001b[0m \u001b[39m# Do not call functions when jit is used\u001b[39;00m\n\u001b[1;32m   1503\u001b[0m full_backward_hooks, non_full_backward_hooks \u001b[39m=\u001b[39m [], []\n",
      "File \u001b[0;32m/mnt/d/gitfile/Codes/Python/Project-RAS/deepxde/deepxde/nn/pytorch/fnn.py:43\u001b[0m, in \u001b[0;36mFNN.forward\u001b[0;34m(self, inputs)\u001b[0m\n\u001b[1;32m     38\u001b[0m     x \u001b[39m=\u001b[39m \u001b[39mself\u001b[39m\u001b[39m.\u001b[39m_input_transform(x)\n\u001b[1;32m     39\u001b[0m \u001b[39mfor\u001b[39;00m j, linear \u001b[39min\u001b[39;00m \u001b[39menumerate\u001b[39m(\u001b[39mself\u001b[39m\u001b[39m.\u001b[39mlinears[:\u001b[39m-\u001b[39m\u001b[39m1\u001b[39m]):\n\u001b[1;32m     40\u001b[0m     x \u001b[39m=\u001b[39m (\n\u001b[1;32m     41\u001b[0m         \u001b[39mself\u001b[39m\u001b[39m.\u001b[39mactivation[j](linear(x))\n\u001b[1;32m     42\u001b[0m         \u001b[39mif\u001b[39;00m \u001b[39misinstance\u001b[39m(\u001b[39mself\u001b[39m\u001b[39m.\u001b[39mactivation, \u001b[39mlist\u001b[39m)\n\u001b[0;32m---> 43\u001b[0m         \u001b[39melse\u001b[39;00m \u001b[39mself\u001b[39m\u001b[39m.\u001b[39mactivation(linear(x))\n\u001b[1;32m     44\u001b[0m     )\n\u001b[1;32m     45\u001b[0m x \u001b[39m=\u001b[39m \u001b[39mself\u001b[39m\u001b[39m.\u001b[39mlinears[\u001b[39m-\u001b[39m\u001b[39m1\u001b[39m](x)\n\u001b[1;32m     46\u001b[0m \u001b[39mif\u001b[39;00m \u001b[39mself\u001b[39m\u001b[39m.\u001b[39m_output_transform \u001b[39mis\u001b[39;00m \u001b[39mnot\u001b[39;00m \u001b[39mNone\u001b[39;00m:\n",
      "File \u001b[0;32m~/apps/miniconda3/envs/pial/lib/python3.10/site-packages/torch/nn/modules/module.py:1501\u001b[0m, in \u001b[0;36mModule._call_impl\u001b[0;34m(self, *args, **kwargs)\u001b[0m\n\u001b[1;32m   1496\u001b[0m \u001b[39m# If we don't have any hooks, we want to skip the rest of the logic in\u001b[39;00m\n\u001b[1;32m   1497\u001b[0m \u001b[39m# this function, and just call forward.\u001b[39;00m\n\u001b[1;32m   1498\u001b[0m \u001b[39mif\u001b[39;00m \u001b[39mnot\u001b[39;00m (\u001b[39mself\u001b[39m\u001b[39m.\u001b[39m_backward_hooks \u001b[39mor\u001b[39;00m \u001b[39mself\u001b[39m\u001b[39m.\u001b[39m_backward_pre_hooks \u001b[39mor\u001b[39;00m \u001b[39mself\u001b[39m\u001b[39m.\u001b[39m_forward_hooks \u001b[39mor\u001b[39;00m \u001b[39mself\u001b[39m\u001b[39m.\u001b[39m_forward_pre_hooks\n\u001b[1;32m   1499\u001b[0m         \u001b[39mor\u001b[39;00m _global_backward_pre_hooks \u001b[39mor\u001b[39;00m _global_backward_hooks\n\u001b[1;32m   1500\u001b[0m         \u001b[39mor\u001b[39;00m _global_forward_hooks \u001b[39mor\u001b[39;00m _global_forward_pre_hooks):\n\u001b[0;32m-> 1501\u001b[0m     \u001b[39mreturn\u001b[39;00m forward_call(\u001b[39m*\u001b[39;49margs, \u001b[39m*\u001b[39;49m\u001b[39m*\u001b[39;49mkwargs)\n\u001b[1;32m   1502\u001b[0m \u001b[39m# Do not call functions when jit is used\u001b[39;00m\n\u001b[1;32m   1503\u001b[0m full_backward_hooks, non_full_backward_hooks \u001b[39m=\u001b[39m [], []\n",
      "File \u001b[0;32m~/apps/miniconda3/envs/pial/lib/python3.10/site-packages/torch/nn/modules/linear.py:114\u001b[0m, in \u001b[0;36mLinear.forward\u001b[0;34m(self, input)\u001b[0m\n\u001b[1;32m    113\u001b[0m \u001b[39mdef\u001b[39;00m \u001b[39mforward\u001b[39m(\u001b[39mself\u001b[39m, \u001b[39minput\u001b[39m: Tensor) \u001b[39m-\u001b[39m\u001b[39m>\u001b[39m Tensor:\n\u001b[0;32m--> 114\u001b[0m     \u001b[39mreturn\u001b[39;00m F\u001b[39m.\u001b[39;49mlinear(\u001b[39minput\u001b[39;49m, \u001b[39mself\u001b[39;49m\u001b[39m.\u001b[39;49mweight, \u001b[39mself\u001b[39;49m\u001b[39m.\u001b[39;49mbias)\n",
      "\u001b[0;31mRuntimeError\u001b[0m: mat1 and mat2 shapes cannot be multiplied (2x101 and 100x100)"
     ]
    }
   ],
   "source": [
    "losshistory, train_state = model.train(iterations=20000, batch_size = 2)\n",
    "dde.utils.plot_loss_history(losshistory)"
   ]
  },
  {
   "cell_type": "code",
   "execution_count": null,
   "metadata": {},
   "outputs": [],
   "source": [
    "losshistory.to_pandas().to_csv(f\"results/loss_history_{date}.csv\")"
   ]
  },
  {
   "cell_type": "code",
   "execution_count": null,
   "metadata": {},
   "outputs": [],
   "source": [
    "\n",
    "while len(train_vxs) < 1000:\n",
    "    # generate some vxs to test\n",
    "    pde_data = dde.data.TimePDE(geomtime, pde, [], num_domain = 20000)\n",
    "    eval_pts = np.linspace(0, 1, 101)[:, None] # generate 1000 random vxs\n",
    "    geom = dde.geometry.Interval(0, 1)\n",
    "    timedomain = dde.geometry.TimeDomain(0, 1)\n",
    "    geomtime = dde.geometry.GeometryXTime(geom, timedomain)\n",
    "    func_space = dde.data.GRF(1.0, length_scale = 0.1, N= 1000, interp=\"linear\")\n",
    "    testing_new_data = dde.data.PDEOperatorCartesianProd(pde_data, func_space, eval_pts, 1000, [0])\n",
    "    # testing_model = dde.Model(testing_new_data, net)\n",
    "    a, _, c = testing_new_data.train_next_batch()\n",
    "    out = model.predict(a, aux_vars = c, operator = pde)\n",
    "    \n",
    "    res = np.mean(np.abs(out), axis = 1)\n",
    "    print(np.mean(res), np.std(res))\n",
    "    topk_index = np.argpartition(res, -20)[-20:] # select the top 20 vxs\n",
    "    topk_vxs = a[0][topk_index]\n",
    "    uxts = parallel_solver(diffusion_reaction_solver, topk_vxs, num_workers = 6)\n",
    "    uxts = np.asarray([u for grid, u in uxts]).reshape(-1, 101 * 101)\n",
    "\n",
    "    # then add the new data to the training set, and train the model\n",
    "    train_vxs = np.concatenate([train_vxs, topk_vxs], axis = 0)\n",
    "    train_uxts = np.concatenate([train_uxts, uxts], axis = 0)\n",
    "    \n",
    "    print(len(train_vxs))\n",
    "    data = PDETripleCartesianProd(X_train=(train_vxs, train_grid), y_train=train_uxts, X_test=(test_vxs, test_grid), y_test=test_uxts, boundary = boundary_losses)\n",
    "    \n",
    "    model = dde.Model(data, net)\n",
    "    batchsize = len(train_vxs) // 5 if len(train_vxs) != 1000 else 1000\n",
    "    iterations = 20000 if len(train_vxs) != 1000 else 50000\n",
    "    model.compile(\"adam\", \n",
    "                  lr=1e-3, \n",
    "                  metrics = [\"mean l2 relative error\"], \n",
    "                  decay = (\"inverse time\", 5000, 0.4))\n",
    "    losshistory, train_state = model.train(iterations=iterations, batch_size = batchsize)\n",
    "    pd_frame = losshistory.to_pandas()\n",
    "    pd_frame = pd.concat([pd.read_csv(f\"results/loss_history_{date}.csv\"), pd_frame], axis = 0)\n",
    "    pd_frame.to_csv(f\"results/loss_history_{date}.csv\")\n",
    "    dde.utils.plot_loss_history(losshistory)\n"
   ]
  }
 ],
 "metadata": {
  "kernelspec": {
   "display_name": "pial",
   "language": "python",
   "name": "python3"
  },
  "language_info": {
   "codemirror_mode": {
    "name": "ipython",
    "version": 3
   },
   "file_extension": ".py",
   "mimetype": "text/x-python",
   "name": "python",
   "nbconvert_exporter": "python",
   "pygments_lexer": "ipython3",
   "version": "3.10.11"
  },
  "orig_nbformat": 4
 },
 "nbformat": 4,
 "nbformat_minor": 2
}
