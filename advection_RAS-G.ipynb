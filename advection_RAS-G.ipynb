{
 "cells": [
  {
   "cell_type": "code",
   "execution_count": null,
   "metadata": {},
   "outputs": [],
   "source": [
    "import torch\n",
    "import numpy as np\n",
    "import pandas as pd\n",
    "import time\n",
    "import matplotlib.pyplot as plt\n",
    "import deepxde.deepxde as dde\n",
    "from datasets import makeTesting_adv\n",
    "from datasets import parallel_solver, advection_solver\n",
    "from utils.func import dirichlet, periodic\n",
    "from utils.PDETriple import PDETripleCartesianProd\n",
    "\n",
    "date = time.strftime(\"%Y%m%d-%H-%M-%S\", time.localtime())\n",
    "dde.config.set_random_seed(2023)"
   ]
  },
  {
   "cell_type": "code",
   "execution_count": null,
   "metadata": {},
   "outputs": [],
   "source": [
    "total_training_vx = 200\n",
    "\n",
    "if False:\n",
    "    makeTesting_adv()"
   ]
  },
  {
   "cell_type": "code",
   "execution_count": null,
   "metadata": {},
   "outputs": [],
   "source": []
  }
 ],
 "metadata": {
  "kernelspec": {
   "display_name": "pial",
   "language": "python",
   "name": "python3"
  },
  "language_info": {
   "codemirror_mode": {
    "name": "ipython",
    "version": 3
   },
   "file_extension": ".py",
   "mimetype": "text/x-python",
   "name": "python",
   "nbconvert_exporter": "python",
   "pygments_lexer": "ipython3",
   "version": "3.10.11"
  },
  "orig_nbformat": 4
 },
 "nbformat": 4,
 "nbformat_minor": 2
}
